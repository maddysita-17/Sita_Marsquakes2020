{
 "cells": [
  {
   "cell_type": "code",
   "execution_count": 5,
   "metadata": {},
   "outputs": [
    {
     "ename": "ModuleNotFoundError",
     "evalue": "No module named 'obspy'",
     "output_type": "error",
     "traceback": [
      "\u001b[0;31m---------------------------------------------------------------------------\u001b[0m",
      "\u001b[0;31mModuleNotFoundError\u001b[0m                       Traceback (most recent call last)",
      "\u001b[0;32m<ipython-input-5-1835181aa147>\u001b[0m in \u001b[0;36m<module>\u001b[0;34m\u001b[0m\n\u001b[1;32m      1\u001b[0m \u001b[0;32mimport\u001b[0m \u001b[0mmatplotlib\u001b[0m\u001b[0;34m.\u001b[0m\u001b[0mpyplot\u001b[0m \u001b[0;32mas\u001b[0m \u001b[0mplt\u001b[0m\u001b[0;34m\u001b[0m\u001b[0;34m\u001b[0m\u001b[0m\n\u001b[1;32m      2\u001b[0m \u001b[0;32mimport\u001b[0m \u001b[0mnumpy\u001b[0m \u001b[0;32mas\u001b[0m \u001b[0mnp\u001b[0m\u001b[0;34m\u001b[0m\u001b[0;34m\u001b[0m\u001b[0m\n\u001b[0;32m----> 3\u001b[0;31m \u001b[0;32mimport\u001b[0m \u001b[0mobspy\u001b[0m\u001b[0;34m\u001b[0m\u001b[0;34m\u001b[0m\u001b[0m\n\u001b[0m\u001b[1;32m      4\u001b[0m \u001b[0;32mfrom\u001b[0m \u001b[0mobspy\u001b[0m\u001b[0;34m.\u001b[0m\u001b[0mcore\u001b[0m\u001b[0;34m.\u001b[0m\u001b[0mtrace\u001b[0m \u001b[0;32mimport\u001b[0m \u001b[0mTrace\u001b[0m\u001b[0;34m,\u001b[0m \u001b[0mStats\u001b[0m\u001b[0;34m\u001b[0m\u001b[0;34m\u001b[0m\u001b[0m\n\u001b[1;32m      5\u001b[0m \u001b[0;32mfrom\u001b[0m \u001b[0mobspy\u001b[0m\u001b[0;34m.\u001b[0m\u001b[0mcore\u001b[0m\u001b[0;34m.\u001b[0m\u001b[0mstream\u001b[0m \u001b[0;32mimport\u001b[0m \u001b[0mStream\u001b[0m\u001b[0;34m\u001b[0m\u001b[0;34m\u001b[0m\u001b[0m\n",
      "\u001b[0;31mModuleNotFoundError\u001b[0m: No module named 'obspy'"
     ]
    }
   ],
   "source": [
    "import matplotlib.pyplot as plt\n",
    "import numpy as np\n",
    "import obspy\n",
    "from obspy.core.trace import Trace, Stats\n",
    "from obspy.core.stream import Stream\n",
    "from obspy import UTCDateTime\n",
    "from obspy.clients.fdsn import Client\n",
    "\n",
    "client = Client(\"IRIS\")\n",
    "\n",
    "def waveforms(start, end, adjtime):\n",
    "    st = client.get_waveforms(\"XB\", \"ELYSE\", \"02\", \"B*\", start-adjtime, end+adjtime)\n",
    "    st.detrend(type='simple')\n",
    "    return st\n",
    "\n",
    "def uvw2enz(st):\n",
    "    if len(st) != 3:\n",
    "       print('Stream does not contain 3 Traces')\n",
    "       return st\n",
    "    for trace in st:\n",
    "        head = trace.stats\n",
    "        channel = head.channel\n",
    "        if channel == 'BHU': U = trace.data\n",
    "        elif channel == 'BHV': V = trace.data\n",
    "        elif channel == 'BHW': W = trace.data\n",
    "        else:\n",
    "            print('Trace.channel is not BHU, BHV, or BHW')\n",
    "            return st\n",
    "\n",
    "    d = np.radians(-30)\n",
    "    aU = np.radians(135)\n",
    "    aV = np.radians(15)\n",
    "    aW = np.radians(255)\n",
    "\n",
    "    A = np.array([[np.cos(d)*np.sin(aU), np.cos(d)*np.cos(aU),-np.sin(d)],\n",
    "                  [np.cos(d)*np.sin(aV), np.cos(d)*np.cos(aV), -np.sin(d)],\n",
    "                  [np.cos(d)*np.sin(aW), np.cos(d)*np.cos(aW), -np.sin(d)]])\n",
    "\n",
    "    B = np.linalg.inv(A)\n",
    "    E,N,Z = np.dot(B,(U,V,W))\n",
    "\n",
    "    head.channel = 'BHE'; trE = Trace(data=E, header=head)\n",
    "    head.channel = 'BHN'; trN = Trace(data=N, header=head)\n",
    "    head.channel = 'BHZ'; trZ = Trace(data=Z, header=head)\n",
    "    stENZ = Stream(traces=[trE,trN,trZ])\n",
    "\n",
    "    return stENZ"
   ]
  },
  {
   "cell_type": "code",
   "execution_count": 2,
   "metadata": {},
   "outputs": [],
   "source": [
    "def rotate(c1,c2,a):\n",
    "    \"\"\"\n",
    "    IN: c1,c2 (arrays) and a (angle)\n",
    "    c1 c2 are the X and Y axes, respectively of a Cartesian coordinate system\n",
    "    a is an angle in degrees, positive angle means a clockwise rotation of the coordinate system.\n",
    "    OUT: o1, o2 (arrays)\n",
    "    o1 o2 are the X and Y axes, respectively of a rotated Cartesian coordinate system\n",
    "    \"\"\"\n",
    "    o1 = np.cos(np.radians(a))*c1 - np.sin(np.radians(a))*c2\n",
    "    o2 = np.sin(np.radians(a))*c1 + np.cos(np.radians(a))*c2\n",
    "    return o1, o2"
   ]
  },
  {
   "cell_type": "markdown",
   "metadata": {},
   "source": [
    "# S0235b"
   ]
  },
  {
   "cell_type": "code",
   "execution_count": null,
   "metadata": {},
   "outputs": [],
   "source": [
    "begin = UTCDateTime('2019-07-26T12:19:18')  # p-wave arrival\n",
    "end = UTCDateTime('2019-07-26T12:22:05')    # s-wave arrival\n",
    "\n",
    "st_uvw = waveforms(begin, end, 600)\n",
    "st_z12 = uvw2enz(st_uvw)\n",
    "\n",
    "stf = st_z12.copy()\n",
    "stf.filter('bandpass', freqmin = 0.125, freqmax = 1.0, corners=4, zerophase=True)"
   ]
  },
  {
   "cell_type": "code",
   "execution_count": null,
   "metadata": {},
   "outputs": [],
   "source": [
    "stP = stf.slice(starttime=begin-1,endtime=begin+2)\n",
    "stS = stf.slice(starttime=end-5, endtime=end+15)\n",
    "print(stP)\n",
    "print(stS)"
   ]
  },
  {
   "cell_type": "code",
   "execution_count": null,
   "metadata": {},
   "outputs": [],
   "source": [
    "scale = 1/200\n",
    "hhe = scale * stP[0].data\n",
    "hhn = scale * stP[1].data\n",
    "\n",
    "tvall = []\n",
    "alpha = np.arange(0,360,1)\n",
    "\n",
    "# calculate Energy on channels oriented in the a direction, for all a in alpha:\n",
    "# angle a is relative to orientation of channels 1 and 2.\n",
    "# c1 is the x-axis, c2 is the y-axis\n",
    "for a in alpha:\n",
    "    hhT,hhR = rotate(hhe,hhn,a)\n",
    "    Tenergy = np.dot(hhT,hhT)\n",
    "    tvall.append(Tenergy)\n",
    "    \n",
    "tval = np.array(tvall) \n",
    "mina = alpha[np.argmin(tval)]\n",
    "\n",
    "mina_guess = tval[np.where(alpha == mina)]\n",
    "mina_74 = tval[np.where(alpha == 74)]\n",
    "print(mina_74, mina_guess)\n",
    "\n",
    "#angle at which the energy is minimized\n",
    "print('optimal angle = ',mina,' or ',mina-180)\n",
    "thetat = str(mina); thetalt = str(mina-180)\n",
    "\n",
    "#reported as 74"
   ]
  },
  {
   "cell_type": "code",
   "execution_count": null,
   "metadata": {},
   "outputs": [],
   "source": [
    "hhe = stS[0].data\n",
    "hhn = stS[1].data\n",
    "hhT,hhR = rotate(hhe,hhn,252)\n",
    "\n",
    "streamRT = stS.copy()\n",
    "streamRT[0].data = hhT\n",
    "streamRT[1].data = hhR\n",
    "streamRT[0].stats.component = 'T'\n",
    "streamRT[1].stats.component = 'R'\n",
    "\n",
    "streamRT.plot();"
   ]
  },
  {
   "cell_type": "markdown",
   "metadata": {},
   "source": [
    "# S0173a"
   ]
  },
  {
   "cell_type": "code",
   "execution_count": 3,
   "metadata": {},
   "outputs": [
    {
     "ename": "NameError",
     "evalue": "name 'UTCDateTime' is not defined",
     "output_type": "error",
     "traceback": [
      "\u001b[0;31m---------------------------------------------------------------------------\u001b[0m",
      "\u001b[0;31mNameError\u001b[0m                                 Traceback (most recent call last)",
      "\u001b[0;32m<ipython-input-3-45ac001f8e9a>\u001b[0m in \u001b[0;36m<module>\u001b[0;34m\u001b[0m\n\u001b[0;32m----> 1\u001b[0;31m \u001b[0mbegin\u001b[0m \u001b[0;34m=\u001b[0m \u001b[0mUTCDateTime\u001b[0m\u001b[0;34m(\u001b[0m\u001b[0;34m'2019-05-23T02:22:59'\u001b[0m\u001b[0;34m)\u001b[0m  \u001b[0;31m# p-wave arrival\u001b[0m\u001b[0;34m\u001b[0m\u001b[0;34m\u001b[0m\u001b[0m\n\u001b[0m\u001b[1;32m      2\u001b[0m \u001b[0mend\u001b[0m \u001b[0;34m=\u001b[0m \u001b[0mUTCDateTime\u001b[0m\u001b[0;34m(\u001b[0m\u001b[0;34m'2019-05-23T02:25:53'\u001b[0m\u001b[0;34m)\u001b[0m    \u001b[0;31m# s-wave arrival\u001b[0m\u001b[0;34m\u001b[0m\u001b[0;34m\u001b[0m\u001b[0m\n\u001b[1;32m      3\u001b[0m \u001b[0;34m\u001b[0m\u001b[0m\n\u001b[1;32m      4\u001b[0m \u001b[0mst_uvw\u001b[0m \u001b[0;34m=\u001b[0m \u001b[0mwaveforms\u001b[0m\u001b[0;34m(\u001b[0m\u001b[0mbegin\u001b[0m\u001b[0;34m,\u001b[0m \u001b[0mend\u001b[0m\u001b[0;34m,\u001b[0m \u001b[0;36m600\u001b[0m\u001b[0;34m)\u001b[0m\u001b[0;34m\u001b[0m\u001b[0;34m\u001b[0m\u001b[0m\n\u001b[1;32m      5\u001b[0m \u001b[0mst_z12\u001b[0m \u001b[0;34m=\u001b[0m \u001b[0muvw2enz\u001b[0m\u001b[0;34m(\u001b[0m\u001b[0mst_uvw\u001b[0m\u001b[0;34m)\u001b[0m\u001b[0;34m\u001b[0m\u001b[0;34m\u001b[0m\u001b[0m\n",
      "\u001b[0;31mNameError\u001b[0m: name 'UTCDateTime' is not defined"
     ]
    }
   ],
   "source": [
    "begin = UTCDateTime('2019-05-23T02:22:59')  # p-wave arrival\n",
    "end = UTCDateTime('2019-05-23T02:25:53')    # s-wave arrival\n",
    "\n",
    "st_uvw = waveforms(begin, end, 600)\n",
    "st_z12 = uvw2enz(st_uvw)\n",
    "    \n",
    "stf = st_z12.copy()\n",
    "stf.filter('bandpass', freqmin = 0.125, freqmax = 1.0, corners=4, zerophase=True)"
   ]
  },
  {
   "cell_type": "code",
   "execution_count": null,
   "metadata": {},
   "outputs": [],
   "source": [
    "stP = stf.slice(starttime=begin-1,endtime=begin+1)\n",
    "stS = stf.slice(starttime=end-5, endtime=end+1)\n",
    "\n",
    "stP2 = stf.slice(starttime=begin+2,endtime=begin+8)\n",
    "stS2 = stf.slice(starttime=end+2,endtime=end+10)\n",
    "print(stP)\n",
    "print(stS)"
   ]
  },
  {
   "cell_type": "code",
   "execution_count": null,
   "metadata": {},
   "outputs": [],
   "source": [
    "scale = 1/400\n",
    "hhe = scale * stP[0].data\n",
    "hhn = scale * stP[1].data\n",
    "\n",
    "tvall = []\n",
    "alpha = np.arange(0,360,1)\n",
    "\n",
    "# calculate Energy on channels oriented in the a direction, for all a in alpha:\n",
    "# angle a is relative to orientation of channels 1 and 2.\n",
    "# c1 is the x-axis, c2 is the y-axis\n",
    "for a in alpha:\n",
    "    hhT,hhR = rotate(hhe,hhn,a)\n",
    "    Tenergy = np.dot(hhT,hhT)\n",
    "    tvall.append(Tenergy)\n",
    "    \n",
    "tval = np.array(tvall) \n",
    "mina = alpha[np.argmin(tval)]\n",
    "\n",
    "mina_guess = tval[np.where(alpha == mina)]\n",
    "mina_91 = tval[np.where(alpha == 91)]\n",
    "print(mina_91, mina_guess)\n",
    "\n",
    "#angle at which the energy is minimized\n",
    "print('optimal angle = ',mina,' or ',mina-180)\n",
    "thetat = str(mina); thetalt = str(mina-180)\n",
    "\n",
    "#reported 91 degrees"
   ]
  },
  {
   "cell_type": "code",
   "execution_count": null,
   "metadata": {},
   "outputs": [],
   "source": [
    "hhe = stS[0].data\n",
    "hhn = stS[1].data\n",
    "hhT,hhR = rotate(hhe,hhn,266)\n",
    "\n",
    "streamRT = stS.copy()\n",
    "streamRT[0].data = hhT\n",
    "streamRT[1].data = hhR\n",
    "streamRT[0].stats.component = 'T'\n",
    "streamRT[1].stats.component = 'R'\n",
    "\n",
    "streamRT.plot();"
   ]
  },
  {
   "cell_type": "markdown",
   "metadata": {},
   "source": [
    "# S0173ab"
   ]
  },
  {
   "cell_type": "code",
   "execution_count": null,
   "metadata": {},
   "outputs": [],
   "source": [
    "print(stP2)\n",
    "print(stS2)"
   ]
  },
  {
   "cell_type": "code",
   "execution_count": null,
   "metadata": {},
   "outputs": [],
   "source": [
    "scale = 1/400\n",
    "hhe = scale * stP[0].data\n",
    "hhn = scale * stP[1].data\n",
    "\n",
    "tvall = []\n",
    "alpha = np.arange(0,360,1)\n",
    "\n",
    "# calculate Energy on channels oriented in the a direction, for all a in alpha:\n",
    "# angle a is relative to orientation of channels 1 and 2.\n",
    "# c1 is the x-axis, c2 is the y-axis\n",
    "for a in alpha:\n",
    "    hhT,hhR = rotate(hhe,hhn,a)\n",
    "    Tenergy = np.dot(hhT,hhT)\n",
    "    tvall.append(Tenergy)\n",
    "    \n",
    "tval = np.array(tvall) \n",
    "mina = alpha[np.argmin(tval)]\n",
    "\n",
    "mina_guess = tval[np.where(alpha == mina)]\n",
    "#mina_91 = tval[np.where(alpha == 91)]\n",
    "print(mina_guess)\n",
    "\n",
    "#angle at which the energy is minimized\n",
    "print('optimal angle = ',mina,' or ',mina-180)\n",
    "thetat = str(mina); thetalt = str(mina-180)\n"
   ]
  },
  {
   "cell_type": "code",
   "execution_count": null,
   "metadata": {},
   "outputs": [],
   "source": [
    "hhe = stS[0].data\n",
    "hhn = stS[1].data\n",
    "hhT,hhR = rotate(hhe,hhn,266)\n",
    "\n",
    "streamRT = stS.copy()\n",
    "streamRT[0].data = hhT\n",
    "streamRT[1].data = hhR\n",
    "streamRT[0].stats.component = 'T'\n",
    "streamRT[1].stats.component = 'R'\n",
    "\n",
    "streamRT.plot();"
   ]
  },
  {
   "cell_type": "markdown",
   "metadata": {},
   "source": [
    "# S0325a"
   ]
  },
  {
   "cell_type": "code",
   "execution_count": null,
   "metadata": {
    "scrolled": false
   },
   "outputs": [],
   "source": [
    "begin = UTCDateTime('2019-10-26T06:58:57')  # p-wave arrival\n",
    "end = UTCDateTime('2019-10-26T07:02:46')    # s-wave arrival\n",
    "\n",
    "st_uvw = waveforms(begin, end, 600)\n",
    "st_z12 = uvw2enz(st_uvw)\n",
    "\n",
    "stf = st_z12.copy()\n",
    "stf.filter('bandpass', freqmin = 0.125, freqmax = 1.0, corners=4, zerophase=True)\n",
    "stzoom = stf.slice(starttime=end-20, endtime=end+20)\n",
    "stzoom.plot();"
   ]
  },
  {
   "cell_type": "code",
   "execution_count": null,
   "metadata": {},
   "outputs": [],
   "source": [
    "stP = stf.slice(starttime=begin-1,endtime=begin+3)\n",
    "stS = stf.slice(starttime=end-5, endtime=end+15)\n",
    "print(stP)\n",
    "print(stS)"
   ]
  },
  {
   "cell_type": "code",
   "execution_count": null,
   "metadata": {},
   "outputs": [],
   "source": [
    "scale = 1/200\n",
    "hhe = scale * stP[0].data\n",
    "hhn = scale * stP[1].data\n",
    "\n",
    "tvall = []\n",
    "alpha = np.arange(0,360,1)\n",
    "\n",
    "# calculate Energy on channels oriented in the a direction, for all a in alpha:\n",
    "# angle a is relative to orientation of channels 1 and 2.\n",
    "# c1 is the x-axis, c2 is the y-axis\n",
    "for a in alpha:\n",
    "    hhT,hhR = rotate(hhe,hhn,a)\n",
    "    Tenergy = np.dot(hhT,hhT)\n",
    "    tvall.append(Tenergy)\n",
    "    \n",
    "tval = np.array(tvall) \n",
    "mina = alpha[np.argmin(tval)]\n",
    "\n",
    "mina_guess = tval[np.where(alpha == mina)]\n",
    "print(mina_guess)\n",
    "\n",
    "#angle at which the energy is minimized\n",
    "print('optimal angle = ',mina,' or ',mina-180)\n",
    "thetat = str(mina); thetalt = str(mina-180)"
   ]
  },
  {
   "cell_type": "code",
   "execution_count": null,
   "metadata": {
    "scrolled": false
   },
   "outputs": [],
   "source": [
    "hhe = stS[0].data\n",
    "hhn = stS[1].data\n",
    "hhT,hhR = rotate(hhe,hhn,303)\n",
    "\n",
    "streamRT = stS.copy()\n",
    "streamRT[0].data = hhT\n",
    "streamRT[1].data = hhR\n",
    "streamRT[0].stats.component = 'T'\n",
    "streamRT[1].stats.component = 'R'\n",
    "\n",
    "streamRT.plot();"
   ]
  },
  {
   "cell_type": "markdown",
   "metadata": {},
   "source": [
    "# S0325ab"
   ]
  },
  {
   "cell_type": "code",
   "execution_count": null,
   "metadata": {},
   "outputs": [],
   "source": [
    "begin = UTCDateTime('2019-10-26T06:59:08')  # p-wave arrival\n",
    "end = UTCDateTime('2019-10-26T07:03:00')    # s-wave arrival\n",
    "\n",
    "st_uvw = waveforms(begin, end, 600)\n",
    "st_z12 = uvw2enz(st_uvw)\n",
    "\n",
    "stf = st_z12.copy()\n",
    "stf.filter('bandpass', freqmin = 0.125, freqmax = 1.0, corners=4, zerophase=True)\n",
    "stzoom = stf.slice(starttime=end-20, endtime=end+20)\n",
    "stzoom.plot();"
   ]
  },
  {
   "cell_type": "code",
   "execution_count": null,
   "metadata": {},
   "outputs": [],
   "source": [
    "stP = stf.slice(starttime=begin-1,endtime=begin+3)\n",
    "stS = stf.slice(starttime=end-5, endtime=end+15)\n",
    "print(stP)\n",
    "print(stS)\n",
    "stP.plot();"
   ]
  },
  {
   "cell_type": "code",
   "execution_count": null,
   "metadata": {},
   "outputs": [],
   "source": [
    "scale = 1/200\n",
    "hhe = scale * stP[0].data\n",
    "hhn = scale * stP[1].data\n",
    "\n",
    "tvall = []\n",
    "alpha = np.arange(0,360,1)\n",
    "\n",
    "# calculate Energy on channels oriented in the a direction, for all a in alpha:\n",
    "# angle a is relative to orientation of channels 1 and 2.\n",
    "# c1 is the x-axis, c2 is the y-axis\n",
    "for a in alpha:\n",
    "    hhT,hhR = rotate(hhe,hhn,a)\n",
    "    Tenergy = np.dot(hhT,hhT)\n",
    "    tvall.append(Tenergy)\n",
    "    \n",
    "tval = np.array(tvall) \n",
    "mina = alpha[np.argmin(tval)]\n",
    "\n",
    "mina_guess = tval[np.where(alpha == mina)]\n",
    "print(mina_guess)\n",
    "\n",
    "#angle at which the energy is minimized\n",
    "print('optimal angle = ',mina,' or ',mina-180)\n",
    "thetat = str(mina); thetalt = str(mina-180)"
   ]
  },
  {
   "cell_type": "code",
   "execution_count": null,
   "metadata": {},
   "outputs": [],
   "source": [
    "hhe = stS[0].data\n",
    "hhn = stS[1].data\n",
    "hhT,hhR = rotate(hhe,hhn,290)\n",
    "\n",
    "streamRT = stS.copy()\n",
    "streamRT[0].data = hhT\n",
    "streamRT[1].data = hhR\n",
    "streamRT[0].stats.component = 'T'\n",
    "streamRT[1].stats.component = 'R'\n",
    "\n",
    "streamRT.plot();"
   ]
  },
  {
   "cell_type": "markdown",
   "metadata": {},
   "source": [
    "# S0183a"
   ]
  },
  {
   "cell_type": "code",
   "execution_count": null,
   "metadata": {},
   "outputs": [],
   "source": [
    "begin = UTCDateTime('2019-06-03T02:27:49')  # p-wave arrival\n",
    "end = UTCDateTime('2019-06-03T02:32:15')    # s-wave arrival\n",
    "\n",
    "st_uvw = waveforms(begin, end, 600)\n",
    "st_z12 = uvw2enz(st_uvw)\n",
    "\n",
    "stf = st_z12.copy()\n",
    "stf.filter('bandpass', freqmin = 0.125, freqmax = 1.0, corners=4, zerophase=True)\n",
    "stzoom = stf.slice(starttime=end-20, endtime=end+20)\n",
    "stzoom.plot();"
   ]
  },
  {
   "cell_type": "code",
   "execution_count": null,
   "metadata": {},
   "outputs": [],
   "source": [
    "stP = stf.slice(starttime=begin-1,endtime=begin+3)\n",
    "stS = stf.slice(starttime=end-5, endtime=end+15)\n",
    "print(stP)\n",
    "print(stS)\n",
    "stP.plot();"
   ]
  },
  {
   "cell_type": "code",
   "execution_count": null,
   "metadata": {},
   "outputs": [],
   "source": [
    "scale = 1/200\n",
    "hhe = scale * stP[0].data\n",
    "hhn = scale * stP[1].data\n",
    "\n",
    "tvall = []\n",
    "alpha = np.arange(0,360,1)\n",
    "\n",
    "# calculate Energy on channels oriented in the a direction, for all a in alpha:\n",
    "# angle a is relative to orientation of channels 1 and 2.\n",
    "# c1 is the x-axis, c2 is the y-axis\n",
    "for a in alpha:\n",
    "    hhT,hhR = rotate(hhe,hhn,a)\n",
    "    Tenergy = np.dot(hhT,hhT)\n",
    "    tvall.append(Tenergy)\n",
    "    \n",
    "tval = np.array(tvall) \n",
    "mina = alpha[np.argmin(tval)]\n",
    "\n",
    "mina_guess = tval[np.where(alpha == mina)]\n",
    "print(mina_guess)\n",
    "\n",
    "#angle at which the energy is minimized\n",
    "print('optimal angle = ',mina,' or ',mina-180)\n",
    "thetat = str(mina); thetalt = str(mina-180)"
   ]
  },
  {
   "cell_type": "code",
   "execution_count": null,
   "metadata": {},
   "outputs": [],
   "source": [
    "hhe = stS[0].data\n",
    "hhn = stS[1].data\n",
    "hhT,hhR = rotate(hhe,hhn,290)\n",
    "\n",
    "streamRT = stS.copy()\n",
    "streamRT[0].data = hhT\n",
    "streamRT[1].data = hhR\n",
    "streamRT[0].stats.component = 'T'\n",
    "streamRT[1].stats.component = 'R'\n",
    "\n",
    "streamRT.plot();"
   ]
  }
 ],
 "metadata": {
  "kernelspec": {
   "display_name": "Python 3",
   "language": "python",
   "name": "python3"
  },
  "language_info": {
   "codemirror_mode": {
    "name": "ipython",
    "version": 3
   },
   "file_extension": ".py",
   "mimetype": "text/x-python",
   "name": "python",
   "nbconvert_exporter": "python",
   "pygments_lexer": "ipython3",
   "version": "3.7.3"
  }
 },
 "nbformat": 4,
 "nbformat_minor": 4
}
