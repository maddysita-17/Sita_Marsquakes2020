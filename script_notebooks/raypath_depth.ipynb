{
 "cells": [
  {
   "cell_type": "code",
   "execution_count": 1,
   "metadata": {},
   "outputs": [],
   "source": [
    "import obspy\n",
    "import obspy.taup\n",
    "from obspy.taup.tau_model import TauModel\n",
    "from obspy.taup.taup_create import build_taup_model\n",
    "from obspy.taup import TauPyModel\n",
    "from obspy.taup.taup_time import TauPTime\n",
    "from obspy.taup import plot_travel_times\n",
    "import matplotlib.pyplot as plt\n",
    "import numpy as np"
   ]
  },
  {
   "cell_type": "code",
   "execution_count": 17,
   "metadata": {},
   "outputs": [],
   "source": [
    "Gudkova = TauPyModel(model=\"Gudkova\")\n",
    "MAAK = TauPyModel(model='MAAK')\n",
    "model = MAAK"
   ]
  },
  {
   "cell_type": "code",
   "execution_count": 12,
   "metadata": {},
   "outputs": [
    {
     "name": "stdout",
     "output_type": "stream",
     "text": [
      "[0, 1, 2, 3, 4, 5, 6, 7, 8, 9, 10, 11, 12, 13, 14, 15, 16, 17, 18, 19, 20, 21, 22, 23, 24, 25, 26, 27, 28, 29, 30, 31, 32, 33, 34, 35, 36, 37, 38, 39, 40, 41, 42, 43, 44, 45, 46, 47, 48, 49]\n"
     ]
    }
   ],
   "source": [
    "ls = [*range(0,50,1)]\n",
    "print(ls)"
   ]
  },
  {
   "cell_type": "code",
   "execution_count": 18,
   "metadata": {},
   "outputs": [
    {
     "name": "stdout",
     "output_type": "stream",
     "text": [
      "[27.598464224762115, 27.597616262949213, 27.596357001432114, 27.595095913751084, 27.593833000561187, 27.592568262459341, 27.59130169999046, 27.590033313648281, 27.588763103878296, 27.587491071080208, 27.586217215610304, 27.584536922923448, 27.582853744714175, 27.581167683078302, 27.580216590169812, 27.579998966121536, 27.579623843881244, 27.579137212506122, 27.578563257263731, 27.577918192911451, 27.577213607480967, 27.57645815207723, 27.575658498293972, 27.574819923361474, 27.57394668809134, 27.573042291646001, 27.5721096492742, 27.571151219862738, 27.570169099683294, 27.569165092727218, 27.568140764404522, 27.567097483200456, 27.566036453431341, 27.564958741320066, 27.563865295993221, 27.562756966546619, 27.561634516051303, 27.560498633145698, 27.559349941695107, 27.558189008903877, 27.557016352171804, 27.555832444923965, 27.554637721591487, 27.553432581895638, 27.552217394548055, 27.550992500458005, 27.549758215529394, 27.548514833105823, 27.547262626122052, 27.54600184899337]\n"
     ]
    }
   ],
   "source": [
    "ia_ls = []\n",
    "for depth in ls:\n",
    "    try:\n",
    "        arrivals = model.get_ray_paths(source_depth_in_km=depth, distance_in_degree=28.23, phase_list=[\"P\"])\n",
    "        ia = arrivals[0].incident_angle\n",
    "        ia_ls.append(ia)\n",
    "    except:\n",
    "        print(str(depth) + 'km, out of range')\n",
    "\n",
    "print(ia_ls)"
   ]
  },
  {
   "cell_type": "code",
   "execution_count": 20,
   "metadata": {},
   "outputs": [
    {
     "name": "stdout",
     "output_type": "stream",
     "text": [
      "11km, out of range\n",
      "12km, out of range\n",
      "[1.8991077565637815, 1.8990903128222516, 1.8990614755582969, 1.8990213692055486, 1.8989691404623303, 1.8989038830847156, 1.8988243356170462, 1.8987251502744935, 1.8985963421080103, 1.8984255333037685, 1.8981812070163382, 1.8972564494474491, 1.8969479407493035, 1.896639176782777, 1.8963301467376037, 1.8960208529684153, 1.8957112814854475, 1.8954112531212122, 1.8951137448664896, 1.8948111699472057, 1.8945075312118205, 1.8942017660302999, 1.8938950284698208, 1.8935874899078413, 1.8932792557597591, 1.8929703965706464, 1.8926609623906752, 1.89235099050581, 1.8920405096627735, 1.8917295426559233, 1.8914181079891965, 1.8911062208950706, 1.8907938942339335, 1.890481139042504, 1.8901679648778777, 1.889854380110171, 1.8895403920883105, 1.8892260073325244, 1.8889112317912335, 1.8885960708588951, 1.8882805294590266, 1.8879646031896955, 1.8876482561416723, 1.8873305589866489, 1.8870135089227258, 1.8866960949131051, 1.8863783215942693, 1.8860601755483541]\n"
     ]
    }
   ],
   "source": [
    "model = Gudkova\n",
    "\n",
    "ia_ls = []\n",
    "for depth in ls:\n",
    "    try:\n",
    "        arrivals = model.get_ray_paths(source_depth_in_km=depth, distance_in_degree=28.23, phase_list=[\"P\"])\n",
    "        ia = arrivals[0].incident_angle\n",
    "        ia_ls.append(ia)\n",
    "    except:\n",
    "        print(str(depth) + 'km, out of range')\n",
    "\n",
    "print(ia_ls)"
   ]
  },
  {
   "cell_type": "code",
   "execution_count": null,
   "metadata": {},
   "outputs": [],
   "source": []
  }
 ],
 "metadata": {
  "kernelspec": {
   "display_name": "Python 3",
   "language": "python",
   "name": "python3"
  },
  "language_info": {
   "codemirror_mode": {
    "name": "ipython",
    "version": 3
   },
   "file_extension": ".py",
   "mimetype": "text/x-python",
   "name": "python",
   "nbconvert_exporter": "python",
   "pygments_lexer": "ipython3",
   "version": "3.7.7"
  }
 },
 "nbformat": 4,
 "nbformat_minor": 4
}
