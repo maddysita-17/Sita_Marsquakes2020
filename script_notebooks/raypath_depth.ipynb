{
 "cells": [
  {
   "cell_type": "code",
   "execution_count": 2,
   "metadata": {},
   "outputs": [],
   "source": [
    "import obspy\n",
    "import obspy.taup\n",
    "from obspy.taup.tau_model import TauModel\n",
    "from obspy.taup.taup_create import build_taup_model\n",
    "from obspy.taup import TauPyModel\n",
    "from obspy.taup.taup_time import TauPTime\n",
    "from obspy.taup import plot_travel_times\n",
    "import matplotlib.pyplot as plt\n",
    "import numpy as np"
   ]
  },
  {
   "cell_type": "code",
   "execution_count": 9,
   "metadata": {},
   "outputs": [],
   "source": [
    "NewGudkova = TauPyModel(model=\"NewGudkova\")\n",
    "MAAK = TauPyModel(model='MAAK')\n",
    "model = MAAK"
   ]
  },
  {
   "cell_type": "code",
   "execution_count": 4,
   "metadata": {},
   "outputs": [
    {
     "name": "stdout",
     "output_type": "stream",
     "text": [
      "[0, 1, 2, 3, 4, 5, 6, 7, 8, 9, 10, 11, 12, 13, 14, 15, 16, 17, 18, 19, 20, 21, 22, 23, 24, 25, 26, 27, 28, 29, 30, 31, 32, 33, 34, 35, 36, 37, 38, 39, 40, 41, 42, 43, 44, 45, 46, 47, 48, 49]\n"
     ]
    }
   ],
   "source": [
    "ls = [*range(0,50,1)]\n",
    "print(ls)"
   ]
  },
  {
   "cell_type": "code",
   "execution_count": 10,
   "metadata": {},
   "outputs": [
    {
     "name": "stdout",
     "output_type": "stream",
     "text": [
      "[27.598464224762115, 27.597616262949213, 27.596357001432114, 27.595095913751084, 27.593833000561187, 27.592568262459341, 27.59130169999046, 27.590033313648281, 27.588763103878296, 27.587491071080208, 27.586217215610304, 27.584536922923448, 27.582853744714175, 27.581167683078302, 27.580216590169812, 27.579998966121536, 27.579623843881244, 27.579137212506122, 27.578563257263731, 27.577918192911451, 27.577213607480967, 27.57645815207723, 27.575658498293972, 27.574819923361474, 27.57394668809134, 27.573042291646001, 27.5721096492742, 27.571151219862738, 27.570169099683294, 27.569165092727218, 27.568140764404522, 27.567097483200456, 27.566036453431341, 27.564958741320066, 27.563865295993221, 27.562756966546619, 27.561634516051303, 27.560498633145698, 27.559349941695107, 27.558189008903877, 27.557016352171804, 27.555832444923965, 27.554637721591487, 27.553432581895638, 27.552217394548055, 27.550992500458005, 27.549758215529394, 27.548514833105823, 27.547262626122052, 27.54600184899337]\n"
     ]
    }
   ],
   "source": [
    "ia_ls = []\n",
    "for depth in ls:\n",
    "    try:\n",
    "        arrivals = model.get_ray_paths(source_depth_in_km=depth, distance_in_degree=28.23, phase_list=[\"P\"])\n",
    "        ia = arrivals[0].incident_angle\n",
    "        ia_ls.append(ia)\n",
    "    except:\n",
    "        print(str(depth) + 'km, out of range')\n",
    "\n",
    "print(ia_ls)"
   ]
  },
  {
   "cell_type": "code",
   "execution_count": 6,
   "metadata": {},
   "outputs": [
    {
     "name": "stdout",
     "output_type": "stream",
     "text": [
      "11km, out of range\n",
      "12km, out of range\n",
      "[25.993518054400074, 25.992435353492425, 25.991351635161806, 25.990266899212923, 25.989181145427757, 25.988094373564341, 25.986925232051316, 25.985467909006832, 25.983575324000078, 25.98106550545905, 25.977475101370477, 25.963900059095732, 25.959350079559037, 25.954812746158332, 25.950271645433261, 25.945726813760171, 25.941178047037596, 25.936625317306536, 25.932315893868868, 25.927895474379604, 25.923432255330525, 25.918959618028449, 25.914457983809044, 25.909943567329506, 25.905418354832488, 25.900883621891921, 25.896340247261772, 25.891788870816324, 25.887229977199187, 25.882663945249114, 25.878091078911748, 25.873511626082156, 25.868925794263703, 25.864333760202793, 25.859735676001581, 25.855131674160937, 25.850521870522272, 25.845906367477685, 25.841285258016871, 25.836658626192772, 25.832026548498657, 25.827388963917862, 25.82274534819949, 25.818081138590021, 25.813427376110191, 25.808768419776328, 25.804104339854767, 25.799434941258674]\n"
     ]
    }
   ],
   "source": [
    "model = Gudkova\n",
    "\n",
    "ia_ls = []\n",
    "for depth in ls:\n",
    "    try:\n",
    "        arrivals = model.get_ray_paths(source_depth_in_km=depth, distance_in_degree=28.23, phase_list=[\"P\"])\n",
    "        ia = arrivals[0].incident_angle\n",
    "        ia_ls.append(ia)\n",
    "    except:\n",
    "        print(str(depth) + 'km, out of range')\n",
    "\n",
    "print(ia_ls)"
   ]
  },
  {
   "cell_type": "code",
   "execution_count": null,
   "metadata": {},
   "outputs": [],
   "source": []
  }
 ],
 "metadata": {
  "kernelspec": {
   "display_name": "Python 3",
   "language": "python",
   "name": "python3"
  },
  "language_info": {
   "codemirror_mode": {
    "name": "ipython",
    "version": 3
   },
   "file_extension": ".py",
   "mimetype": "text/x-python",
   "name": "python",
   "nbconvert_exporter": "python",
   "pygments_lexer": "ipython3",
   "version": "3.7.7"
  }
 },
 "nbformat": 4,
 "nbformat_minor": 4
}
