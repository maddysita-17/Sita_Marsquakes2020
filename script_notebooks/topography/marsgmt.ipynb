{
 "cells": [
  {
   "cell_type": "code",
   "execution_count": 3,
   "metadata": {},
   "outputs": [
    {
     "ename": "GMTCLibNotFoundError",
     "evalue": "Error loading GMT shared library at '/anaconda3/envs/gmt/lib/libgmt.dylib'.\ndlopen(/anaconda3/envs/gmt/lib/libgmt.dylib, 6): Library not loaded: @rpath/libjpeg.9.dylib\n  Referenced from: /anaconda3/envs/gmt/lib/libmfhdf.0.dylib\n  Reason: Incompatible library version: libmfhdf.0.dylib requires version 14.0.0 or later, but libjpeg.9.dylib provides version 12.0.0\nError loading GMT shared library at 'libgmt.dylib'.\ndlopen(libgmt.dylib, 6): image not found",
     "output_type": "error",
     "traceback": [
      "\u001b[0;31m---------------------------------------------------------------------------\u001b[0m",
      "\u001b[0;31mGMTCLibNotFoundError\u001b[0m                      Traceback (most recent call last)",
      "\u001b[0;32m<ipython-input-3-5742406b07ea>\u001b[0m in \u001b[0;36m<module>\u001b[0;34m\u001b[0m\n\u001b[1;32m      1\u001b[0m \u001b[0;32mimport\u001b[0m \u001b[0mnumpy\u001b[0m \u001b[0;32mas\u001b[0m \u001b[0mnp\u001b[0m\u001b[0;34m\u001b[0m\u001b[0;34m\u001b[0m\u001b[0m\n\u001b[1;32m      2\u001b[0m \u001b[0;32mimport\u001b[0m \u001b[0mstruct\u001b[0m\u001b[0;34m\u001b[0m\u001b[0;34m\u001b[0m\u001b[0m\n\u001b[0;32m----> 3\u001b[0;31m \u001b[0;32mimport\u001b[0m \u001b[0mpygmt\u001b[0m \u001b[0;32mas\u001b[0m \u001b[0mgmt\u001b[0m\u001b[0;34m\u001b[0m\u001b[0;34m\u001b[0m\u001b[0m\n\u001b[0m\u001b[1;32m      4\u001b[0m \u001b[0;32mimport\u001b[0m \u001b[0mxarray\u001b[0m \u001b[0;32mas\u001b[0m \u001b[0mxr\u001b[0m\u001b[0;34m\u001b[0m\u001b[0;34m\u001b[0m\u001b[0m\n",
      "\u001b[0;32m/anaconda3/lib/python3.7/site-packages/pygmt/__init__.py\u001b[0m in \u001b[0;36m<module>\u001b[0;34m\u001b[0m\n\u001b[1;32m     68\u001b[0m \u001b[0;34m\u001b[0m\u001b[0m\n\u001b[1;32m     69\u001b[0m \u001b[0;31m# Start our global modern mode session\u001b[0m\u001b[0;34m\u001b[0m\u001b[0;34m\u001b[0m\u001b[0;34m\u001b[0m\u001b[0m\n\u001b[0;32m---> 70\u001b[0;31m \u001b[0m_begin\u001b[0m\u001b[0;34m(\u001b[0m\u001b[0;34m)\u001b[0m\u001b[0;34m\u001b[0m\u001b[0;34m\u001b[0m\u001b[0m\n\u001b[0m\u001b[1;32m     71\u001b[0m \u001b[0;31m# Tell Python to run _end when shutting down\u001b[0m\u001b[0;34m\u001b[0m\u001b[0;34m\u001b[0m\u001b[0;34m\u001b[0m\u001b[0m\n\u001b[1;32m     72\u001b[0m \u001b[0m_atexit\u001b[0m\u001b[0;34m.\u001b[0m\u001b[0mregister\u001b[0m\u001b[0;34m(\u001b[0m\u001b[0m_end\u001b[0m\u001b[0;34m)\u001b[0m\u001b[0;34m\u001b[0m\u001b[0;34m\u001b[0m\u001b[0m\n",
      "\u001b[0;32m/anaconda3/lib/python3.7/site-packages/pygmt/session_management.py\u001b[0m in \u001b[0;36mbegin\u001b[0;34m()\u001b[0m\n\u001b[1;32m     14\u001b[0m     \"\"\"\n\u001b[1;32m     15\u001b[0m     \u001b[0mprefix\u001b[0m \u001b[0;34m=\u001b[0m \u001b[0;34m\"pygmt-session\"\u001b[0m\u001b[0;34m\u001b[0m\u001b[0;34m\u001b[0m\u001b[0m\n\u001b[0;32m---> 16\u001b[0;31m     \u001b[0;32mwith\u001b[0m \u001b[0mSession\u001b[0m\u001b[0;34m(\u001b[0m\u001b[0;34m)\u001b[0m \u001b[0;32mas\u001b[0m \u001b[0mlib\u001b[0m\u001b[0;34m:\u001b[0m\u001b[0;34m\u001b[0m\u001b[0;34m\u001b[0m\u001b[0m\n\u001b[0m\u001b[1;32m     17\u001b[0m         \u001b[0mlib\u001b[0m\u001b[0;34m.\u001b[0m\u001b[0mcall_module\u001b[0m\u001b[0;34m(\u001b[0m\u001b[0;34m\"begin\"\u001b[0m\u001b[0;34m,\u001b[0m \u001b[0mprefix\u001b[0m\u001b[0;34m)\u001b[0m\u001b[0;34m\u001b[0m\u001b[0;34m\u001b[0m\u001b[0m\n\u001b[1;32m     18\u001b[0m         \u001b[0;31m# pygmt relies on GMT modern mode with GMT_COMPATIBILITY at version 6\u001b[0m\u001b[0;34m\u001b[0m\u001b[0;34m\u001b[0m\u001b[0;34m\u001b[0m\u001b[0m\n",
      "\u001b[0;32m/anaconda3/lib/python3.7/site-packages/pygmt/clib/session.py\u001b[0m in \u001b[0;36m__enter__\u001b[0;34m(self)\u001b[0m\n\u001b[1;32m    181\u001b[0m             \u001b[0mraising\u001b[0m \u001b[0mthe\u001b[0m \u001b[0mexception\u001b[0m\u001b[0;34m.\u001b[0m\u001b[0;34m\u001b[0m\u001b[0;34m\u001b[0m\u001b[0m\n\u001b[1;32m    182\u001b[0m         \"\"\"\n\u001b[0;32m--> 183\u001b[0;31m         \u001b[0mself\u001b[0m\u001b[0;34m.\u001b[0m\u001b[0mcreate\u001b[0m\u001b[0;34m(\u001b[0m\u001b[0;34m\"pygmt-session\"\u001b[0m\u001b[0;34m)\u001b[0m\u001b[0;34m\u001b[0m\u001b[0;34m\u001b[0m\u001b[0m\n\u001b[0m\u001b[1;32m    184\u001b[0m         \u001b[0;31m# Need to store the version info because 'get_default' won't work after\u001b[0m\u001b[0;34m\u001b[0m\u001b[0;34m\u001b[0m\u001b[0;34m\u001b[0m\u001b[0m\n\u001b[1;32m    185\u001b[0m         \u001b[0;31m# the session is destroyed.\u001b[0m\u001b[0;34m\u001b[0m\u001b[0;34m\u001b[0m\u001b[0;34m\u001b[0m\u001b[0m\n",
      "\u001b[0;32m/anaconda3/lib/python3.7/site-packages/pygmt/clib/session.py\u001b[0m in \u001b[0;36mcreate\u001b[0;34m(self, name)\u001b[0m\n\u001b[1;32m    330\u001b[0m             \u001b[0;34m\"GMT_Create_Session\"\u001b[0m\u001b[0;34m,\u001b[0m\u001b[0;34m\u001b[0m\u001b[0;34m\u001b[0m\u001b[0m\n\u001b[1;32m    331\u001b[0m             \u001b[0margtypes\u001b[0m\u001b[0;34m=\u001b[0m\u001b[0;34m[\u001b[0m\u001b[0mctp\u001b[0m\u001b[0;34m.\u001b[0m\u001b[0mc_char_p\u001b[0m\u001b[0;34m,\u001b[0m \u001b[0mctp\u001b[0m\u001b[0;34m.\u001b[0m\u001b[0mc_uint\u001b[0m\u001b[0;34m,\u001b[0m \u001b[0mctp\u001b[0m\u001b[0;34m.\u001b[0m\u001b[0mc_uint\u001b[0m\u001b[0;34m,\u001b[0m \u001b[0mctp\u001b[0m\u001b[0;34m.\u001b[0m\u001b[0mc_void_p\u001b[0m\u001b[0;34m]\u001b[0m\u001b[0;34m,\u001b[0m\u001b[0;34m\u001b[0m\u001b[0;34m\u001b[0m\u001b[0m\n\u001b[0;32m--> 332\u001b[0;31m             \u001b[0mrestype\u001b[0m\u001b[0;34m=\u001b[0m\u001b[0mctp\u001b[0m\u001b[0;34m.\u001b[0m\u001b[0mc_void_p\u001b[0m\u001b[0;34m,\u001b[0m\u001b[0;34m\u001b[0m\u001b[0;34m\u001b[0m\u001b[0m\n\u001b[0m\u001b[1;32m    333\u001b[0m         )\n\u001b[1;32m    334\u001b[0m \u001b[0;34m\u001b[0m\u001b[0m\n",
      "\u001b[0;32m/anaconda3/lib/python3.7/site-packages/pygmt/clib/session.py\u001b[0m in \u001b[0;36mget_libgmt_func\u001b[0;34m(self, name, argtypes, restype)\u001b[0m\n\u001b[1;32m    279\u001b[0m         \"\"\"\n\u001b[1;32m    280\u001b[0m         \u001b[0;32mif\u001b[0m \u001b[0;32mnot\u001b[0m \u001b[0mhasattr\u001b[0m\u001b[0;34m(\u001b[0m\u001b[0mself\u001b[0m\u001b[0;34m,\u001b[0m \u001b[0;34m\"_libgmt\"\u001b[0m\u001b[0;34m)\u001b[0m\u001b[0;34m:\u001b[0m\u001b[0;34m\u001b[0m\u001b[0;34m\u001b[0m\u001b[0m\n\u001b[0;32m--> 281\u001b[0;31m             \u001b[0mself\u001b[0m\u001b[0;34m.\u001b[0m\u001b[0m_libgmt\u001b[0m \u001b[0;34m=\u001b[0m \u001b[0mload_libgmt\u001b[0m\u001b[0;34m(\u001b[0m\u001b[0;34m)\u001b[0m\u001b[0;34m\u001b[0m\u001b[0;34m\u001b[0m\u001b[0m\n\u001b[0m\u001b[1;32m    282\u001b[0m         \u001b[0mfunction\u001b[0m \u001b[0;34m=\u001b[0m \u001b[0mgetattr\u001b[0m\u001b[0;34m(\u001b[0m\u001b[0mself\u001b[0m\u001b[0;34m.\u001b[0m\u001b[0m_libgmt\u001b[0m\u001b[0;34m,\u001b[0m \u001b[0mname\u001b[0m\u001b[0;34m)\u001b[0m\u001b[0;34m\u001b[0m\u001b[0;34m\u001b[0m\u001b[0m\n\u001b[1;32m    283\u001b[0m         \u001b[0;32mif\u001b[0m \u001b[0margtypes\u001b[0m \u001b[0;32mis\u001b[0m \u001b[0;32mnot\u001b[0m \u001b[0;32mNone\u001b[0m\u001b[0;34m:\u001b[0m\u001b[0;34m\u001b[0m\u001b[0;34m\u001b[0m\u001b[0m\n",
      "\u001b[0;32m/anaconda3/lib/python3.7/site-packages/pygmt/clib/loading.py\u001b[0m in \u001b[0;36mload_libgmt\u001b[0;34m(lib_fullnames)\u001b[0m\n\u001b[1;32m     57\u001b[0m \u001b[0;34m\u001b[0m\u001b[0m\n\u001b[1;32m     58\u001b[0m     \u001b[0;32mif\u001b[0m \u001b[0merror\u001b[0m\u001b[0;34m:\u001b[0m\u001b[0;34m\u001b[0m\u001b[0;34m\u001b[0m\u001b[0m\n\u001b[0;32m---> 59\u001b[0;31m         \u001b[0;32mraise\u001b[0m \u001b[0mGMTCLibNotFoundError\u001b[0m\u001b[0;34m(\u001b[0m\u001b[0;34m\"\\n\"\u001b[0m\u001b[0;34m.\u001b[0m\u001b[0mjoin\u001b[0m\u001b[0;34m(\u001b[0m\u001b[0merror_msg\u001b[0m\u001b[0;34m)\u001b[0m\u001b[0;34m)\u001b[0m\u001b[0;34m\u001b[0m\u001b[0;34m\u001b[0m\u001b[0m\n\u001b[0m\u001b[1;32m     60\u001b[0m \u001b[0;34m\u001b[0m\u001b[0m\n\u001b[1;32m     61\u001b[0m     \u001b[0;32mreturn\u001b[0m \u001b[0mlibgmt\u001b[0m\u001b[0;34m\u001b[0m\u001b[0;34m\u001b[0m\u001b[0m\n",
      "\u001b[0;31mGMTCLibNotFoundError\u001b[0m: Error loading GMT shared library at '/anaconda3/envs/gmt/lib/libgmt.dylib'.\ndlopen(/anaconda3/envs/gmt/lib/libgmt.dylib, 6): Library not loaded: @rpath/libjpeg.9.dylib\n  Referenced from: /anaconda3/envs/gmt/lib/libmfhdf.0.dylib\n  Reason: Incompatible library version: libmfhdf.0.dylib requires version 14.0.0 or later, but libjpeg.9.dylib provides version 12.0.0\nError loading GMT shared library at 'libgmt.dylib'.\ndlopen(libgmt.dylib, 6): image not found"
     ]
    }
   ],
   "source": [
    "import numpy as np\n",
    "import struct\n",
    "import pygmt as gmt\n",
    "import xarray as xr"
   ]
  },
  {
   "cell_type": "code",
   "execution_count": 2,
   "metadata": {},
   "outputs": [
    {
     "ename": "GMTCLibNotFoundError",
     "evalue": "Error loading GMT shared library at '/anaconda3/envs/gmt/lib/libgmt.dylib'.\ndlopen(/anaconda3/envs/gmt/lib/libgmt.dylib, 6): Library not loaded: @rpath/libjpeg.9.dylib\n  Referenced from: /anaconda3/envs/gmt/lib/libmfhdf.0.dylib\n  Reason: Incompatible library version: libmfhdf.0.dylib requires version 14.0.0 or later, but libjpeg.9.dylib provides version 12.0.0\nError loading GMT shared library at 'libgmt.dylib'.\ndlopen(libgmt.dylib, 6): image not found",
     "output_type": "error",
     "traceback": [
      "\u001b[0;31m---------------------------------------------------------------------------\u001b[0m",
      "\u001b[0;31mGMTCLibNotFoundError\u001b[0m                      Traceback (most recent call last)",
      "\u001b[0;32m<ipython-input-2-5974fc3f40b1>\u001b[0m in \u001b[0;36m<module>\u001b[0;34m\u001b[0m\n\u001b[0;32m----> 1\u001b[0;31m \u001b[0;32mimport\u001b[0m \u001b[0mpygmt\u001b[0m\u001b[0;34m\u001b[0m\u001b[0;34m\u001b[0m\u001b[0m\n\u001b[0m\u001b[1;32m      2\u001b[0m \u001b[0mpygmt\u001b[0m\u001b[0;34m.\u001b[0m\u001b[0mshow_versions\u001b[0m\u001b[0;34m(\u001b[0m\u001b[0;34m)\u001b[0m\u001b[0;34m\u001b[0m\u001b[0;34m\u001b[0m\u001b[0m\n",
      "\u001b[0;32m/anaconda3/lib/python3.7/site-packages/pygmt/__init__.py\u001b[0m in \u001b[0;36m<module>\u001b[0;34m\u001b[0m\n\u001b[1;32m     68\u001b[0m \u001b[0;34m\u001b[0m\u001b[0m\n\u001b[1;32m     69\u001b[0m \u001b[0;31m# Start our global modern mode session\u001b[0m\u001b[0;34m\u001b[0m\u001b[0;34m\u001b[0m\u001b[0;34m\u001b[0m\u001b[0m\n\u001b[0;32m---> 70\u001b[0;31m \u001b[0m_begin\u001b[0m\u001b[0;34m(\u001b[0m\u001b[0;34m)\u001b[0m\u001b[0;34m\u001b[0m\u001b[0;34m\u001b[0m\u001b[0m\n\u001b[0m\u001b[1;32m     71\u001b[0m \u001b[0;31m# Tell Python to run _end when shutting down\u001b[0m\u001b[0;34m\u001b[0m\u001b[0;34m\u001b[0m\u001b[0;34m\u001b[0m\u001b[0m\n\u001b[1;32m     72\u001b[0m \u001b[0m_atexit\u001b[0m\u001b[0;34m.\u001b[0m\u001b[0mregister\u001b[0m\u001b[0;34m(\u001b[0m\u001b[0m_end\u001b[0m\u001b[0;34m)\u001b[0m\u001b[0;34m\u001b[0m\u001b[0;34m\u001b[0m\u001b[0m\n",
      "\u001b[0;32m/anaconda3/lib/python3.7/site-packages/pygmt/session_management.py\u001b[0m in \u001b[0;36mbegin\u001b[0;34m()\u001b[0m\n\u001b[1;32m     14\u001b[0m     \"\"\"\n\u001b[1;32m     15\u001b[0m     \u001b[0mprefix\u001b[0m \u001b[0;34m=\u001b[0m \u001b[0;34m\"pygmt-session\"\u001b[0m\u001b[0;34m\u001b[0m\u001b[0;34m\u001b[0m\u001b[0m\n\u001b[0;32m---> 16\u001b[0;31m     \u001b[0;32mwith\u001b[0m \u001b[0mSession\u001b[0m\u001b[0;34m(\u001b[0m\u001b[0;34m)\u001b[0m \u001b[0;32mas\u001b[0m \u001b[0mlib\u001b[0m\u001b[0;34m:\u001b[0m\u001b[0;34m\u001b[0m\u001b[0;34m\u001b[0m\u001b[0m\n\u001b[0m\u001b[1;32m     17\u001b[0m         \u001b[0mlib\u001b[0m\u001b[0;34m.\u001b[0m\u001b[0mcall_module\u001b[0m\u001b[0;34m(\u001b[0m\u001b[0;34m\"begin\"\u001b[0m\u001b[0;34m,\u001b[0m \u001b[0mprefix\u001b[0m\u001b[0;34m)\u001b[0m\u001b[0;34m\u001b[0m\u001b[0;34m\u001b[0m\u001b[0m\n\u001b[1;32m     18\u001b[0m         \u001b[0;31m# pygmt relies on GMT modern mode with GMT_COMPATIBILITY at version 6\u001b[0m\u001b[0;34m\u001b[0m\u001b[0;34m\u001b[0m\u001b[0;34m\u001b[0m\u001b[0m\n",
      "\u001b[0;32m/anaconda3/lib/python3.7/site-packages/pygmt/clib/session.py\u001b[0m in \u001b[0;36m__enter__\u001b[0;34m(self)\u001b[0m\n\u001b[1;32m    181\u001b[0m             \u001b[0mraising\u001b[0m \u001b[0mthe\u001b[0m \u001b[0mexception\u001b[0m\u001b[0;34m.\u001b[0m\u001b[0;34m\u001b[0m\u001b[0;34m\u001b[0m\u001b[0m\n\u001b[1;32m    182\u001b[0m         \"\"\"\n\u001b[0;32m--> 183\u001b[0;31m         \u001b[0mself\u001b[0m\u001b[0;34m.\u001b[0m\u001b[0mcreate\u001b[0m\u001b[0;34m(\u001b[0m\u001b[0;34m\"pygmt-session\"\u001b[0m\u001b[0;34m)\u001b[0m\u001b[0;34m\u001b[0m\u001b[0;34m\u001b[0m\u001b[0m\n\u001b[0m\u001b[1;32m    184\u001b[0m         \u001b[0;31m# Need to store the version info because 'get_default' won't work after\u001b[0m\u001b[0;34m\u001b[0m\u001b[0;34m\u001b[0m\u001b[0;34m\u001b[0m\u001b[0m\n\u001b[1;32m    185\u001b[0m         \u001b[0;31m# the session is destroyed.\u001b[0m\u001b[0;34m\u001b[0m\u001b[0;34m\u001b[0m\u001b[0;34m\u001b[0m\u001b[0m\n",
      "\u001b[0;32m/anaconda3/lib/python3.7/site-packages/pygmt/clib/session.py\u001b[0m in \u001b[0;36mcreate\u001b[0;34m(self, name)\u001b[0m\n\u001b[1;32m    330\u001b[0m             \u001b[0;34m\"GMT_Create_Session\"\u001b[0m\u001b[0;34m,\u001b[0m\u001b[0;34m\u001b[0m\u001b[0;34m\u001b[0m\u001b[0m\n\u001b[1;32m    331\u001b[0m             \u001b[0margtypes\u001b[0m\u001b[0;34m=\u001b[0m\u001b[0;34m[\u001b[0m\u001b[0mctp\u001b[0m\u001b[0;34m.\u001b[0m\u001b[0mc_char_p\u001b[0m\u001b[0;34m,\u001b[0m \u001b[0mctp\u001b[0m\u001b[0;34m.\u001b[0m\u001b[0mc_uint\u001b[0m\u001b[0;34m,\u001b[0m \u001b[0mctp\u001b[0m\u001b[0;34m.\u001b[0m\u001b[0mc_uint\u001b[0m\u001b[0;34m,\u001b[0m \u001b[0mctp\u001b[0m\u001b[0;34m.\u001b[0m\u001b[0mc_void_p\u001b[0m\u001b[0;34m]\u001b[0m\u001b[0;34m,\u001b[0m\u001b[0;34m\u001b[0m\u001b[0;34m\u001b[0m\u001b[0m\n\u001b[0;32m--> 332\u001b[0;31m             \u001b[0mrestype\u001b[0m\u001b[0;34m=\u001b[0m\u001b[0mctp\u001b[0m\u001b[0;34m.\u001b[0m\u001b[0mc_void_p\u001b[0m\u001b[0;34m,\u001b[0m\u001b[0;34m\u001b[0m\u001b[0;34m\u001b[0m\u001b[0m\n\u001b[0m\u001b[1;32m    333\u001b[0m         )\n\u001b[1;32m    334\u001b[0m \u001b[0;34m\u001b[0m\u001b[0m\n",
      "\u001b[0;32m/anaconda3/lib/python3.7/site-packages/pygmt/clib/session.py\u001b[0m in \u001b[0;36mget_libgmt_func\u001b[0;34m(self, name, argtypes, restype)\u001b[0m\n\u001b[1;32m    279\u001b[0m         \"\"\"\n\u001b[1;32m    280\u001b[0m         \u001b[0;32mif\u001b[0m \u001b[0;32mnot\u001b[0m \u001b[0mhasattr\u001b[0m\u001b[0;34m(\u001b[0m\u001b[0mself\u001b[0m\u001b[0;34m,\u001b[0m \u001b[0;34m\"_libgmt\"\u001b[0m\u001b[0;34m)\u001b[0m\u001b[0;34m:\u001b[0m\u001b[0;34m\u001b[0m\u001b[0;34m\u001b[0m\u001b[0m\n\u001b[0;32m--> 281\u001b[0;31m             \u001b[0mself\u001b[0m\u001b[0;34m.\u001b[0m\u001b[0m_libgmt\u001b[0m \u001b[0;34m=\u001b[0m \u001b[0mload_libgmt\u001b[0m\u001b[0;34m(\u001b[0m\u001b[0;34m)\u001b[0m\u001b[0;34m\u001b[0m\u001b[0;34m\u001b[0m\u001b[0m\n\u001b[0m\u001b[1;32m    282\u001b[0m         \u001b[0mfunction\u001b[0m \u001b[0;34m=\u001b[0m \u001b[0mgetattr\u001b[0m\u001b[0;34m(\u001b[0m\u001b[0mself\u001b[0m\u001b[0;34m.\u001b[0m\u001b[0m_libgmt\u001b[0m\u001b[0;34m,\u001b[0m \u001b[0mname\u001b[0m\u001b[0;34m)\u001b[0m\u001b[0;34m\u001b[0m\u001b[0;34m\u001b[0m\u001b[0m\n\u001b[1;32m    283\u001b[0m         \u001b[0;32mif\u001b[0m \u001b[0margtypes\u001b[0m \u001b[0;32mis\u001b[0m \u001b[0;32mnot\u001b[0m \u001b[0;32mNone\u001b[0m\u001b[0;34m:\u001b[0m\u001b[0;34m\u001b[0m\u001b[0;34m\u001b[0m\u001b[0m\n",
      "\u001b[0;32m/anaconda3/lib/python3.7/site-packages/pygmt/clib/loading.py\u001b[0m in \u001b[0;36mload_libgmt\u001b[0;34m(lib_fullnames)\u001b[0m\n\u001b[1;32m     57\u001b[0m \u001b[0;34m\u001b[0m\u001b[0m\n\u001b[1;32m     58\u001b[0m     \u001b[0;32mif\u001b[0m \u001b[0merror\u001b[0m\u001b[0;34m:\u001b[0m\u001b[0;34m\u001b[0m\u001b[0;34m\u001b[0m\u001b[0m\n\u001b[0;32m---> 59\u001b[0;31m         \u001b[0;32mraise\u001b[0m \u001b[0mGMTCLibNotFoundError\u001b[0m\u001b[0;34m(\u001b[0m\u001b[0;34m\"\\n\"\u001b[0m\u001b[0;34m.\u001b[0m\u001b[0mjoin\u001b[0m\u001b[0;34m(\u001b[0m\u001b[0merror_msg\u001b[0m\u001b[0;34m)\u001b[0m\u001b[0;34m)\u001b[0m\u001b[0;34m\u001b[0m\u001b[0;34m\u001b[0m\u001b[0m\n\u001b[0m\u001b[1;32m     60\u001b[0m \u001b[0;34m\u001b[0m\u001b[0m\n\u001b[1;32m     61\u001b[0m     \u001b[0;32mreturn\u001b[0m \u001b[0mlibgmt\u001b[0m\u001b[0;34m\u001b[0m\u001b[0;34m\u001b[0m\u001b[0m\n",
      "\u001b[0;31mGMTCLibNotFoundError\u001b[0m: Error loading GMT shared library at '/anaconda3/envs/gmt/lib/libgmt.dylib'.\ndlopen(/anaconda3/envs/gmt/lib/libgmt.dylib, 6): Library not loaded: @rpath/libjpeg.9.dylib\n  Referenced from: /anaconda3/envs/gmt/lib/libmfhdf.0.dylib\n  Reason: Incompatible library version: libmfhdf.0.dylib requires version 14.0.0 or later, but libjpeg.9.dylib provides version 12.0.0\nError loading GMT shared library at 'libgmt.dylib'.\ndlopen(libgmt.dylib, 6): image not found"
     ]
    }
   ],
   "source": [
    "import pygmt\n",
    "pygmt.show_versions()"
   ]
  },
  {
   "cell_type": "code",
   "execution_count": null,
   "metadata": {},
   "outputs": [],
   "source": [
    "def fi2(fi1,teta1,azimuth,delta):\n",
    "    term1 = np.cos(delta)*np.sin(fi1)*np.cos(teta1)\n",
    "    factor2 = np.sin(delta)*np.cos(azimuth)*np.sin(teta1)\n",
    "    term2 = factor2*np.sin(fi1)\n",
    "    factor3 = np.sin(delta)*np.sin(azimuth)\n",
    "    term3 = factor3*np.cos(fi1)\n",
    "    teller = term1 - term2 + term3\n",
    "    term1 = np.cos(delta)*np.cos(fi1)*np.cos(teta1)\n",
    "    term2 = factor2*np.cos(fi1)\n",
    "    term3 = factor3*np.sin(fi1)\n",
    "    rnoemer = term1 - term2 - term3\n",
    "    return np.arctan2(teller,rnoemer)\n",
    "\n",
    "def teta2(teta1,azimuth,delta):\n",
    "    term1 = np.cos(delta)*np.sin(teta1)\n",
    "    term2 = np.sin(delta)*np.cos(azimuth)*np.cos(teta1)\n",
    "    som = term1 + term2\n",
    "    return np.arcsin(som)\n",
    "\n",
    "def azdelt(teta1d,fi1d,deltad,azimuthd):\n",
    "    # IO in degrees, calculations in radians\n",
    "    teta1 = teta1d*np.pi/180.; fi1 = fi1d*np.pi/180.\n",
    "    delta = deltad*np.pi/180.; azimuth = azimuthd*np.pi/180.\n",
    "    if teta1 > 0.5*np.pi or teta1 < -0.5*np.pi:\n",
    "        print('error, non-existent latitude ', teta1)\n",
    "        return 0,0\n",
    "    if delta < 0.:\n",
    "        print('error, non-existent delta ',delta)\n",
    "        return 0,0\n",
    "    f = fi2(fi1,teta1,azimuth,delta)\n",
    "    t = teta2(teta1,azimuth,delta)\n",
    "    return t*180/np.pi, f*180/np.pi"
   ]
  },
  {
   "cell_type": "markdown",
   "metadata": {},
   "source": [
    "* IMG format is binary, 16-bit, topo unit is m\n",
    "* 16 pixels per degree\n",
    "* got median topography from gridded data sets (randomly selected from list)\n",
    "\n",
    "DATA_SET_ID                   = \"MGS-M-MOLA-5-MEGDR-L3-V1.0\" <br>\n",
    "PRODUCT_ID                    = \"MEGT90N000EB.IMG\"           <br>\n",
    "SPACECRAFT_NAME               = \"MARS GLOBAL SURVEYOR\"       <br>\n",
    "INSTRUMENT_ID                 = MOLA                         <br>\n",
    "INSTRUMENT_NAME               = \"MARS ORBITER LASER ALTIMETER\" <br>\n",
    "\n",
    "Relevant web site: https://pds-geosciences.wustl.edu/dataserv/default.htm\n",
    "Select MGS --> MOLA --> MEGDR --> submit \n",
    "Returns a long list of .IMG files. I randomly selected one (MEGT90N000EB.IMG); it appears to be the whole planet's median topography."
   ]
  },
  {
   "cell_type": "code",
   "execution_count": null,
   "metadata": {},
   "outputs": [],
   "source": [
    "ppd = 16        # 16 pixels per degree\n",
    "inc = 1/ppd     # increment (in degrees) between topo values\n",
    "hinc = 0.5*inc\n",
    "nlats = 180*ppd\n",
    "nlons = 360*ppd\n",
    "topo = np.zeros([nlats,nlons])\n",
    "# for the quadrilateral interpretation of np.pcolormesh (shading='flat') the lat and lon array need to mark \n",
    "# the boundaries of the quadrilaterals and thus each have one more element than there are pixel (topo) values\n",
    "# gmt calls this grid(line) registration\n",
    "lats = np.arange(90,-90-inc,-inc)\n",
    "lons = np.arange(0,360+inc,inc)\n",
    "# for pixel registration (needed for xarray and imshow, for example):\n",
    "plats = np.arange(90-hinc,-90-hinc,-inc)\n",
    "plons = np.arange(hinc,360+hinc,inc)"
   ]
  },
  {
   "cell_type": "code",
   "execution_count": null,
   "metadata": {},
   "outputs": [],
   "source": [
    "datablock = open('megt90n000eb.img','rb')\n",
    "\n",
    "for irow in range(nlats):\n",
    "    a = datablock.read(2*nlons)      # read all bytes that represent topo values for all longitudes and one latitutde\n",
    "    row = struct.unpack('>5760h',a)  # read 5760 big-endian 2-byte integers from one latitude \"row\" of the binary file\n",
    "    topo[irow] = row                # store topo values (now integers) in a row of 2D array topom\n",
    "\n",
    "datablock.close()\n",
    "topo = 0.001*topo                   # convert topo values to km"
   ]
  },
  {
   "cell_type": "code",
   "execution_count": null,
   "metadata": {},
   "outputs": [],
   "source": [
    "# turn topography into an xarray object for plotting with gmt\n",
    "xtopo = xr.DataArray(topo,coords=(plats,plons),dims=('latitude','longitude'))"
   ]
  },
  {
   "cell_type": "code",
   "execution_count": null,
   "metadata": {},
   "outputs": [],
   "source": [
    "centerlon = 160; centerlat = 15\n",
    "\n",
    "distance = 20  # degrees\n",
    "azs = np.arange(0,360) # degrees\n",
    "y, x = azdelt(centerlat,centerlon,distance,azs)\n",
    "print(\"small circle points calculated\")"
   ]
  },
  {
   "cell_type": "code",
   "execution_count": null,
   "metadata": {},
   "outputs": [],
   "source": [
    "# plot specific region, \n",
    "\n",
    "latmin = -10; latmax = 30\n",
    "lonmin = 120; lonmax = 180\n",
    "\n",
    "fig3 = gmt.Figure()\n",
    "\n",
    "gmt.makecpt(cmap=\"haxby\", series=[-8, 8])\n",
    "fig3.grdimage(xtopo,frame=True,projection='M12',region=[lonmin,lonmax,latmin,latmax])\n",
    "fig3.colorbar(frame='+l\"topography (km)\"',position='JMR')\n",
    "fig3.show()\n"
   ]
  },
  {
   "cell_type": "markdown",
   "metadata": {},
   "source": [
    "gmt.makecpt(cmap='haxby', series=[-8, 8])\n",
    "fig3.grdimage(xtopo)\n",
    "fig3.show()"
   ]
  },
  {
   "cell_type": "code",
   "execution_count": null,
   "metadata": {},
   "outputs": [],
   "source": [
    "fig5 = gmt.Figure()\n",
    "gmt.makecpt(cmap=\"haxby\", series=[-8, 8])\n",
    "fig5.grdimage(xtopo,frame=True,projection='M12',region=[lonmin,lonmax,latmin,latmax])\n",
    "\n",
    "fig5.plot(centerlon,centerlat,style='i0.2i',color='purple',pen=True)\n",
    "fig5.plot(x,y,pen='1,black')\n",
    "fig5.show()"
   ]
  },
  {
   "cell_type": "markdown",
   "metadata": {},
   "source": [
    "To plot ellipses with pygmt.velo one needs to provide data as follows. For example, for [150,6,0,0,6,4,120,\"S0111a\"]:\n",
    "\n",
    "1,2: longitude, latitude of station (150, 6)\n",
    "\n",
    "3,4: eastward, northward velocity  (0,0) \n",
    "\n",
    "5,6: semi-major, semi-minor axes (6,4)  # The unites of this are NOT map degrees....\n",
    "\n",
    "7: counter-clockwise angle, in degrees, from horizontal axis to major axis of ellipse. (120)\n",
    "\n",
    "Trailing text: name of station (optional) (event label, S0111a)\n",
    "\n",
    "Use the first number in this option \"r0.2/0.95\" to scale the ellipse.\n"
   ]
  },
  {
   "cell_type": "code",
   "execution_count": null,
   "metadata": {},
   "outputs": [],
   "source": [
    "fig6 = gmt.Figure()\n",
    "gmt.makecpt(cmap=\"haxby\", series=[-8, 8])\n",
    "fig6.grdimage(xtopo,frame=True,projection='M12',region=[lonmin,lonmax,latmin,latmax])\n",
    "\n",
    "fig6.plot(centerlon,centerlat,style='i0.2i',color='purple',pen=True)\n",
    "fig6.plot(y,x,pen='1,black')\n",
    "\n",
    "ellipse = {\"lon\": [150],\n",
    "           \"lat\": [6],\n",
    "           \"vE\": [0],\n",
    "           \"vN\": [0],\n",
    "           \"sE\": [2],\n",
    "           \"sN\": [1],\n",
    "           \"angle\": [130],\n",
    "           \"site\": [\"S0111a\"],\n",
    "          }\n",
    "      \n",
    "fig6.velo(data=ellipse, uncertaintycolor=\"darkorange\", pen=\"black\", line=True,  spec=\"r0.2/0.95\", transparency=50)\n",
    "\n",
    "fig6.show()"
   ]
  },
  {
   "cell_type": "code",
   "execution_count": null,
   "metadata": {},
   "outputs": [],
   "source": [
    "# have fun"
   ]
  },
  {
   "cell_type": "markdown",
   "metadata": {},
   "source": [
    "To plot ellipses with pygmt.velo one needs to provide data as follows. For example, for [150,6,0,0,6,4,120,\"S0111a\"]:\n",
    "\n",
    "1,2: longitude, latitude of station (150, 6)\n",
    "\n",
    "3,4: eastward, northward velocity  (0,0) \n",
    "\n",
    "5,6: semi-major, semi-minor axes (6,4)  # The unites of this are NOT map degrees....\n",
    "\n",
    "7: counter-clockwise angle, in degrees, from horizontal axis to major axis of ellipse. (120)\n",
    "\n",
    "Trailing text: name of station (optional) (event label, S0111a)\n",
    "\n",
    "Use the first number in this option \"r0.2/0.95\" to scale the ellipse.\n"
   ]
  },
  {
   "cell_type": "code",
   "execution_count": null,
   "metadata": {},
   "outputs": [],
   "source": [
    "# s0173a ellipse\n",
    "s0173a = {\"lon\": [164.09],\n",
    "           \"lat\": [3.95],\n",
    "           \"vE\": [0],\n",
    "           \"vN\": [0],\n",
    "           \"sE\": [2],\n",
    "           \"sN\": [1],\n",
    "           \"angle\": [90],\n",
    "           \"site\": [\"S0173a\"],\n",
    "          }\n",
    "\n",
    "# s0235b ellipse\n",
    "s0235b = {\"lon\": [162.04],\n",
    "           \"lat\": [11.22],\n",
    "           \"vE\": [0],\n",
    "           \"vN\": [0],\n",
    "           \"sE\": [2],\n",
    "           \"sN\": [1],\n",
    "           \"angle\": [95],\n",
    "           \"site\": [\"S0235b\"],\n",
    "          }\n",
    "\n",
    "# s0325ab ellipse\n",
    "s0325ab = {\"lon\": [162.103],\n",
    "           \"lat\": [-23.94],\n",
    "           \"vE\": [0],\n",
    "           \"vN\": [0],\n",
    "           \"sE\": [2],\n",
    "           \"sN\": [1],\n",
    "           \"angle\": [220],\n",
    "           \"site\": [\"S0325ab\"],\n",
    "          }"
   ]
  },
  {
   "cell_type": "code",
   "execution_count": null,
   "metadata": {
    "scrolled": false
   },
   "outputs": [],
   "source": [
    "latmin = -30; latmax = 30\n",
    "lonmin = 120; lonmax = 180\n",
    "\n",
    "fig7 = gmt.Figure()\n",
    "gmt.makecpt(cmap=\"haxby\", series=[-8, 8])\n",
    "fig7.grdimage(xtopo,frame=True,projection='M12',region=[lonmin,lonmax,latmin,latmax])\n",
    "fig7.colorbar(frame='+l\"topography (km)\"',position='JMR')\n",
    "\n",
    "# lander:\n",
    "centerlat=4.5024; centerlon=135.6234\n",
    "fig7.plot(centerlon,centerlat,style='i0.2i',color='purple',pen=True)\n",
    "\n",
    "# dist circles:\n",
    "azs = np.arange(0,360) # degrees\n",
    "\n",
    "for dist in [10,20,30,40]:\n",
    "    y, x = azdelt(centerlat,centerlon,dist,azs)\n",
    "    fig7.plot(x,y,pen='0.5,black,dashed')\n",
    "\n",
    "for ellipse in [s0235b,s0325ab]:\n",
    "    fig7.velo(data=ellipse, uncertaintycolor=\"darkorange\", pen=\"black\", line=True,  spec=\"r0.2/0.95\")\n",
    "\n",
    "# [[lon, lat, direction, major_axis, minor_axis]]\n",
    "data = [[164.09, 3.95, 90, 2, 1]]\n",
    "data2 = [[164.09, 3.95, 90, 3, 2]]\n",
    "fig7.plot(data=data, style=\"e\", color=\"orange\", transparency=50)\n",
    "fig7.plot(data=data2, style=\"e\", color=\"orange\", transparency=70)\n",
    "\n",
    "fig7.velo(data=s0173a, uncertaintycolor='darkorange', pen=\"black\", line=False,  spec=\"r0.2/0.95\")\n",
    "\n",
    "fig7.show()"
   ]
  },
  {
   "cell_type": "code",
   "execution_count": null,
   "metadata": {},
   "outputs": [],
   "source": [
    "latmin = -30; latmax = 30\n",
    "lonmin = 120; lonmax = 180\n",
    "\n",
    "fig7 = gmt.Figure()\n",
    "gmt.makecpt(cmap=\"haxby\", series=[-8, 8])\n",
    "fig7.grdimage(xtopo,frame=True,projection='M12',region=[lonmin,lonmax,latmin,latmax])\n",
    "fig7.colorbar(frame='+l\"topography (km)\"',position='JMR')\n",
    "fig7.show()"
   ]
  },
  {
   "cell_type": "code",
   "execution_count": null,
   "metadata": {},
   "outputs": [],
   "source": []
  }
 ],
 "metadata": {
  "kernelspec": {
   "display_name": "Python 3",
   "language": "python",
   "name": "python3"
  },
  "language_info": {
   "codemirror_mode": {
    "name": "ipython",
    "version": 3
   },
   "file_extension": ".py",
   "mimetype": "text/x-python",
   "name": "python",
   "nbconvert_exporter": "python",
   "pygments_lexer": "ipython3",
   "version": "3.7.7"
  }
 },
 "nbformat": 4,
 "nbformat_minor": 4
}
